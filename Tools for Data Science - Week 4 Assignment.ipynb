{
 "cells": [
  {
   "cell_type": "markdown",
   "id": "ba842795",
   "metadata": {},
   "source": [
    "# My Jupyter Notebook on IBM Watson Studio"
   ]
  },
  {
   "cell_type": "markdown",
   "id": "fe33b091",
   "metadata": {},
   "source": [
    "**Jon B**<br>\n",
    "Data Analyst"
   ]
  },
  {
   "cell_type": "markdown",
   "id": "ff356b81",
   "metadata": {},
   "source": [
    "*I am interested in data science because of the value it can add to a business. By interogating a business data you can obtain a advantage over competitors who do not utilise data science.*"
   ]
  },
  {
   "cell_type": "markdown",
   "id": "880c8e65",
   "metadata": {},
   "source": [
    "### Code to print the output of 2 squared"
   ]
  },
  {
   "cell_type": "code",
   "execution_count": 2,
   "id": "41033c33",
   "metadata": {},
   "outputs": [
    {
     "name": "stdout",
     "output_type": "stream",
     "text": [
      "4\n"
     ]
    }
   ],
   "source": [
    "print(2**2)"
   ]
  },
  {
   "cell_type": "markdown",
   "id": "837cf81f",
   "metadata": {},
   "source": [
    "* This\n",
    "* Is\n",
    "* A \n",
    "* Bullet\n",
    "* List\n",
    "\n",
    "1. This\n",
    "2. Is\n",
    "3. A\n",
    "4. Numbered\n",
    "5. List\n",
    "\n",
    "***\n",
    "\n",
    "This is horizontal lined text\n",
    "\n",
    "***"
   ]
  }
 ],
 "metadata": {
  "kernelspec": {
   "display_name": "Python 3 (ipykernel)",
   "language": "python",
   "name": "python3"
  },
  "language_info": {
   "codemirror_mode": {
    "name": "ipython",
    "version": 3
   },
   "file_extension": ".py",
   "mimetype": "text/x-python",
   "name": "python",
   "nbconvert_exporter": "python",
   "pygments_lexer": "ipython3",
   "version": "3.8.9"
  }
 },
 "nbformat": 4,
 "nbformat_minor": 5
}
